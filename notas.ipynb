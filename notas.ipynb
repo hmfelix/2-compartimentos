{
 "cells": [
  {
   "cell_type": "markdown",
   "metadata": {},
   "source": [
    "# Modelo de fluxo entre 2 compartimentos em 2D"
   ]
  },
  {
   "cell_type": "markdown",
   "metadata": {},
   "source": [
    "## Objetivo\n",
    "\n",
    "Simular, usando C++ e mecânica estatística, o fluxo de partículas idênticas entre dois compartimentos por meio de uma pequena abertura."
   ]
  },
  {
   "cell_type": "markdown",
   "metadata": {},
   "source": [
    "## Esquematização do modelo\n",
    "\n",
    "A configuração espacial simulada consiste em duas caixas quadradas $A$ e $B$, divididas por células contíguas também quadradas de área padrão. Cada caixa tem $\\sqrt{N}$ células de lado. As caixas são adjacentes, unidas por um dos lados, porém separadas entre si e do ambiente externo por paredes rígidas, impermeáveis e diatérmicas.\n",
    "\n",
    "Cada caixa inicia a simulação com algumas de suas células preenchidas por partículas e as demais células desocupadas, podendo haver apenas uma única partícula ocupando alguma célula em determinado microestado. Há, assim, uma concentração $C$ de partículas em cada caixa.\n",
    "\n",
    "Na parede que une as caixas há uma abertura conectando-as, de apenas uma célula de comprimento, que permite a passagem de uma partícula de cada lado por vez (ou por passo de Monte Carlo). Ou seja, existe mão dupla, no sentido de que a cada passo no máximo duas partículas podem realizar a travessia, uma no sentido $A \\rightarrow B$ e outra no sentido contrário.\n",
    "\n",
    "A figura abaixo ilustra a configuração espacial do modelo:\n",
    "\n",
    "![](img-caixas.svg)\n",
    "\n",
    "*Configuração espacial do modelo, no caso em que o lado de cada caixa é $\\sqrt{N}=20$, a concentração normalizada da caixa A é 0.2 e a da caixa B é 0.05. Células imediatamente adjacentes à abertura figuram com coloração destacada.*"
   ]
  },
  {
   "cell_type": "markdown",
   "metadata": {},
   "source": []
  }
 ],
 "metadata": {
  "kernelspec": {
   "display_name": "Python 3",
   "language": "python",
   "name": "python3"
  },
  "language_info": {
   "codemirror_mode": {
    "name": "ipython",
    "version": 3
   },
   "file_extension": ".py",
   "mimetype": "text/x-python",
   "name": "python",
   "nbconvert_exporter": "python",
   "pygments_lexer": "ipython3",
   "version": "3.12.3"
  }
 },
 "nbformat": 4,
 "nbformat_minor": 2
}

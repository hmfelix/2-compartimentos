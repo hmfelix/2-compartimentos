{
 "cells": [
  {
   "cell_type": "markdown",
   "metadata": {},
   "source": [
    "# Modelo de fluxo entre 2 compartimentos em 2D"
   ]
  },
  {
   "cell_type": "markdown",
   "metadata": {},
   "source": [
    "## Objetivo\n",
    "\n",
    "Simular, usando C++ e mecânica estatística, o fluxo de partículas idênticas entre dois compartimentos por meio de uma pequena abertura."
   ]
  },
  {
   "cell_type": "markdown",
   "metadata": {},
   "source": [
    "## Esquematização do modelo\n",
    "\n",
    "A configuração espacial simulada consiste em dois compartimentos quadrados $A$ e $B$, divididos por células contíguas também quadradas de área padrão. Cada compartimento tem $\\sqrt{N}$ células de lado. Os compartimentos são adjacentes, unidos por um dos lados, porém separados entre si e do ambiente externo por paredes rígidas, impermeáveis e diatérmicas.\n",
    "\n",
    "Cada compartimento inicia a simulação com algumas de suas células preenchidas por partículas e as demais células desocupadas, podendo haver apenas uma única partícula ocupando alguma célula a cada configuração. Há, assim, uma concentração $C$ de partículas em cada compartimento em cada configuração.\n",
    "\n",
    "Na parede que une os compartimentos há uma abertura os conectando, de apenas uma célula de comprimento, que permite a passagem de uma partícula de cada lado por vez (ou por passo de Monte Carlo). Ou seja, existe mão dupla, no sentido de que a cada passo no máximo duas partículas podem realizar a travessia, uma no sentido $A \\rightarrow B$ e outra no sentido contrário.\n",
    "\n",
    "A figura abaixo ilustra a configuração espacial do modelo:\n",
    "\n",
    "![](img-caixas.svg)\n",
    "\n",
    "*Configuração espacial do modelo, no caso em que o lado de cada compartimento é $\\sqrt{N}=20$, a concentração normalizada de A é 0.2 e de B é 0.05. Células imediatamente adjacentes à abertura figuram com coloração destacada.*\n",
    "\n",
    "O modelo consiste em um processo de Monte Carlo em que vários microestados do sistema são amostrados por meio de uma cadeia de Markov. A partir de uma configuração inicial com diferentes concentrações da partícula em cada compartimento, podem ser calculados dois conjuntos de probabilidades:\n",
    "\n",
    "1. A probabilidade $P^{(k)}_v$ de que uma partícula no compartimento $k$ se encontre na célula imediatamente adjacente à abertura (tal célula de cada caixa se encontra colorida na figura); e\n",
    "2. Caso haja uma partícula nesta célula, a probabilidade de que ela passe para o outro compartimento.\n",
    "\n",
    "Essas probabilidades são usadas para amostrar microestados, e são explicadas em mais detalhes abaixo."
   ]
  },
  {
   "cell_type": "markdown",
   "metadata": {},
   "source": [
    "## Probabilidade (1): presença de partícula na vizinhança da abertura\n",
    "\n"
   ]
  },
  {
   "cell_type": "markdown",
   "metadata": {},
   "source": []
  },
  {
   "cell_type": "markdown",
   "metadata": {},
   "source": []
  }
 ],
 "metadata": {
  "kernelspec": {
   "display_name": "Python 3",
   "language": "python",
   "name": "python3"
  },
  "language_info": {
   "codemirror_mode": {
    "name": "ipython",
    "version": 3
   },
   "file_extension": ".py",
   "mimetype": "text/x-python",
   "name": "python",
   "nbconvert_exporter": "python",
   "pygments_lexer": "ipython3",
   "version": "3.12.3"
  }
 },
 "nbformat": 4,
 "nbformat_minor": 2
}
